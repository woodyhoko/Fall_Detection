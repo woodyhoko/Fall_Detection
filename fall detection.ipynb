{
 "cells": [
  {
   "cell_type": "code",
   "execution_count": 1,
   "metadata": {},
   "outputs": [],
   "source": [
    "import numpy as np\n",
    "import matplotlib.pyplot as plt\n",
    "import pandas as pd\n",
    "import os\n",
    "os.environ['TF_FORCE_GPU_ALLOW_GROWTH'] = 'true'"
   ]
  },
  {
   "cell_type": "code",
   "execution_count": 4,
   "metadata": {},
   "outputs": [],
   "source": [
    "from tensorflow import keras\n",
    "import tensorflow as tf"
   ]
  },
  {
   "cell_type": "markdown",
   "metadata": {},
   "source": [
    "# First model"
   ]
  },
  {
   "cell_type": "code",
   "execution_count": 5,
   "metadata": {},
   "outputs": [],
   "source": [
    "\n",
    "inx = keras.Input(shape=(25, 240, 320, 3))\n",
    "x = keras.layers.TimeDistributed(keras.layers.Conv2D(20, (3,3), padding='same', strides=(2,2), activation='relu'))(inx)\n",
    "x = keras.layers.TimeDistributed(keras.layers.MaxPooling2D())(x)\n",
    "x = keras.layers.TimeDistributed(keras.layers.Conv2D(40, (3,3), padding='same', strides=(2,2), activation='relu'))(x)\n",
    "x = keras.layers.TimeDistributed(keras.layers.MaxPooling2D())(x)\n",
    "x = keras.layers.TimeDistributed(keras.layers.Conv2D(80, (3,3), padding='same', strides=(2,2), activation='relu'))(x)\n",
    "x = keras.layers.TimeDistributed(keras.layers.MaxPooling2D())(x)\n",
    "x = keras.layers.TimeDistributed(keras.layers.Conv2D(160, (3,3), padding='same', strides=(2,2), activation='relu'))(x)\n",
    "# x = keras.layers.TimeDistributed(keras.layers.Flatten())(x)\n",
    "x = keras.layers.TimeDistributed(keras.layers.GlobalAveragePooling2D())(x)\n",
    "\n",
    "x = keras.layers.GRU(128, return_sequences=True)(x)\n",
    "x = keras.layers.GRU(128, return_sequences=True)(x)\n",
    "x = keras.layers.Flatten()(x)\n",
    "x = keras.layers.Dense(64, activation = \"relu\")(x)\n",
    "x = keras.layers.Dense(16, activation = \"relu\")(x)\n",
    "outputs = keras.layers.Dense(1, activation=\"sigmoid\")(x)"
   ]
  },
  {
   "cell_type": "code",
   "execution_count": 6,
   "metadata": {},
   "outputs": [],
   "source": [
    "model = keras.Model(inputs=inx, outputs=outputs)"
   ]
  },
  {
   "cell_type": "code",
   "execution_count": 7,
   "metadata": {},
   "outputs": [
    {
     "name": "stdout",
     "output_type": "stream",
     "text": [
      "Model: \"model\"\n",
      "_________________________________________________________________\n",
      "Layer (type)                 Output Shape              Param #   \n",
      "=================================================================\n",
      "input_1 (InputLayer)         [(None, 25, 240, 320, 3)] 0         \n",
      "_________________________________________________________________\n",
      "time_distributed (TimeDistri (None, 25, 120, 160, 40)  1120      \n",
      "_________________________________________________________________\n",
      "time_distributed_1 (TimeDist (None, 25, 60, 80, 40)    0         \n",
      "_________________________________________________________________\n",
      "time_distributed_2 (TimeDist (None, 25, 30, 40, 80)    28880     \n",
      "_________________________________________________________________\n",
      "time_distributed_3 (TimeDist (None, 25, 15, 20, 80)    0         \n",
      "_________________________________________________________________\n",
      "time_distributed_4 (TimeDist (None, 25, 8, 10, 160)    115360    \n",
      "_________________________________________________________________\n",
      "time_distributed_5 (TimeDist (None, 25, 4, 5, 160)     0         \n",
      "_________________________________________________________________\n",
      "time_distributed_6 (TimeDist (None, 25, 2, 3, 320)     461120    \n",
      "_________________________________________________________________\n",
      "time_distributed_7 (TimeDist (None, 25, 320)           0         \n",
      "_________________________________________________________________\n",
      "gru (GRU)                    (None, 25, 128)           172800    \n",
      "_________________________________________________________________\n",
      "gru_1 (GRU)                  (None, 25, 128)           99072     \n",
      "_________________________________________________________________\n",
      "flatten (Flatten)            (None, 3200)              0         \n",
      "_________________________________________________________________\n",
      "dense (Dense)                (None, 64)                204864    \n",
      "_________________________________________________________________\n",
      "dense_1 (Dense)              (None, 16)                1040      \n",
      "_________________________________________________________________\n",
      "dense_2 (Dense)              (None, 1)                 17        \n",
      "=================================================================\n",
      "Total params: 1,084,273\n",
      "Trainable params: 1,084,273\n",
      "Non-trainable params: 0\n",
      "_________________________________________________________________\n"
     ]
    }
   ],
   "source": [
    "model.summary()"
   ]
  },
  {
   "cell_type": "code",
   "execution_count": 8,
   "metadata": {},
   "outputs": [],
   "source": [
    "def weighted_binary_crossentropy(weights):\n",
    "    def w_binary_crossentropy(y_true, y_pred):\n",
    "        return tf.keras.backend.mean(tf.nn.weighted_cross_entropy_with_logits(\n",
    "            y_true,\n",
    "            y_pred,\n",
    "            weights,\n",
    "            name=None\n",
    "        ), axis=-1)\n",
    "    return w_binary_crossentropy\n",
    "wc = tf.losses.CategoricalCrossentropy()\n",
    "ssgd = tf.keras.optimizers.SGD(learning_rate=0.1)\n",
    "model.compile(loss = weighted_binary_crossentropy(20), optimizer = \"sgd\", metrics = [\"MSE\"])"
   ]
  },
  {
   "cell_type": "code",
   "execution_count": 10,
   "metadata": {},
   "outputs": [],
   "source": [
    "def train_gen():\n",
    "    kk=-1\n",
    "    while True:\n",
    "        kk += 1\n",
    "        yield np.load(\"xx_\"+str(kk%3000)+\".npy\"), np.load(\"yy_\"+str(kk%3000)+\".npy\")\n",
    "train_gengen = tf.data.Dataset.from_generator(train_gen, args=[], output_types=(tf.float32, tf.float32,), )\n"
   ]
  },
  {
   "cell_type": "code",
   "execution_count": 11,
   "metadata": {},
   "outputs": [
    {
     "name": "stdout",
     "output_type": "stream",
     "text": [
      "(10, 25, 240, 320, 3) tf.Tensor([0. 0. 0. 0. 0. 0. 1. 0. 0. 0.], shape=(10,), dtype=float32)\n"
     ]
    }
   ],
   "source": [
    "for a,b in train_gengen.repeat().take(1):\n",
    "    print(a.shape, b)\n",
    "    break"
   ]
  },
  {
   "cell_type": "code",
   "execution_count": 12,
   "metadata": {},
   "outputs": [
    {
     "name": "stderr",
     "output_type": "stream",
     "text": [
      "C:\\Users\\woody\\anaconda3\\lib\\site-packages\\tensorflow\\python\\keras\\engine\\training.py:1844: UserWarning: `Model.fit_generator` is deprecated and will be removed in a future version. Please use `Model.fit`, which supports generators.\n",
      "  warnings.warn('`Model.fit_generator` is deprecated and '\n"
     ]
    },
    {
     "name": "stdout",
     "output_type": "stream",
     "text": [
      "Epoch 1/10\n",
      "2500/2500 [==============================] - 562s 221ms/step - loss: 1.4962 - MSE: 0.1330\n",
      "Epoch 2/10\n",
      "2500/2500 [==============================] - 570s 228ms/step - loss: 1.5507 - MSE: 0.1879\n",
      "Epoch 3/10\n",
      "2500/2500 [==============================] - 574s 229ms/step - loss: 1.5199 - MSE: 0.1392\n",
      "Epoch 4/10\n",
      "2500/2500 [==============================] - 583s 233ms/step - loss: 1.5309 - MSE: 0.1480\n",
      "Epoch 5/10\n",
      "2500/2500 [==============================] - 581s 232ms/step - loss: 1.5317 - MSE: 0.1592\n",
      "Epoch 6/10\n",
      "2500/2500 [==============================] - 562s 225ms/step - loss: 1.4878 - MSE: 0.1768\n",
      "Epoch 7/10\n",
      "2500/2500 [==============================] - 571s 228ms/step - loss: 1.3132 - MSE: 0.1833\n",
      "Epoch 8/10\n",
      "2500/2500 [==============================] - 564s 225ms/step - loss: 1.2420 - MSE: 0.1046\n",
      "Epoch 9/10\n",
      "2500/2500 [==============================] - 573s 229ms/step - loss: 1.2426 - MSE: 0.1240\n",
      "Epoch 10/10\n",
      "2500/2500 [==============================] - 578s 231ms/step - loss: 1.3625 - MSE: 0.2948\n"
     ]
    },
    {
     "data": {
      "text/plain": [
       "<tensorflow.python.keras.callbacks.History at 0x14f5d963610>"
      ]
     },
     "execution_count": 12,
     "metadata": {},
     "output_type": "execute_result"
    }
   ],
   "source": [
    "model.fit_generator(generator = train_gengen, steps_per_epoch= 2500, epochs = 10)"
   ]
  },
  {
   "cell_type": "markdown",
   "metadata": {},
   "source": [
    "## save model"
   ]
  },
  {
   "cell_type": "code",
   "execution_count": 19,
   "metadata": {},
   "outputs": [],
   "source": [
    "model.save(\"fall_model.h5\")"
   ]
  },
  {
   "cell_type": "markdown",
   "metadata": {},
   "source": [
    "## load model"
   ]
  },
  {
   "cell_type": "code",
   "execution_count": 16,
   "metadata": {},
   "outputs": [
    {
     "name": "stdout",
     "output_type": "stream",
     "text": [
      "Model: \"model\"\n",
      "_________________________________________________________________\n",
      "Layer (type)                 Output Shape              Param #   \n",
      "=================================================================\n",
      "input_1 (InputLayer)         [(None, 25, 240, 320, 3)] 0         \n",
      "_________________________________________________________________\n",
      "time_distributed (TimeDistri (None, 25, 120, 160, 16)  448       \n",
      "_________________________________________________________________\n",
      "time_distributed_1 (TimeDist (None, 25, 60, 80, 16)    0         \n",
      "_________________________________________________________________\n",
      "time_distributed_2 (TimeDist (None, 25, 30, 40, 32)    4640      \n",
      "_________________________________________________________________\n",
      "time_distributed_3 (TimeDist (None, 25, 15, 20, 32)    0         \n",
      "_________________________________________________________________\n",
      "time_distributed_4 (TimeDist (None, 25, 8, 10, 64)     18496     \n",
      "_________________________________________________________________\n",
      "time_distributed_5 (TimeDist (None, 25, 4, 5, 64)      0         \n",
      "_________________________________________________________________\n",
      "time_distributed_6 (TimeDist (None, 25, 2, 3, 128)     73856     \n",
      "_________________________________________________________________\n",
      "time_distributed_7 (TimeDist (None, 25, 128)           0         \n",
      "_________________________________________________________________\n",
      "gru (GRU)                    (None, 25, 128)           99072     \n",
      "_________________________________________________________________\n",
      "gru_1 (GRU)                  (None, 25, 128)           99072     \n",
      "_________________________________________________________________\n",
      "flatten (Flatten)            (None, 3200)              0         \n",
      "_________________________________________________________________\n",
      "dense (Dense)                (None, 64)                204864    \n",
      "_________________________________________________________________\n",
      "dense_1 (Dense)              (None, 16)                1040      \n",
      "_________________________________________________________________\n",
      "dense_2 (Dense)              (None, 1)                 17        \n",
      "=================================================================\n",
      "Total params: 501,505\n",
      "Trainable params: 501,505\n",
      "Non-trainable params: 0\n",
      "_________________________________________________________________\n"
     ]
    }
   ],
   "source": [
    "model = tf.keras.models.load_model(\"fall_model.h5\", custom_objects={'w_binary_crossentropy': weighted_binary_crossentropy(20)})\n",
    "model.summary()"
   ]
  },
  {
   "cell_type": "markdown",
   "metadata": {},
   "source": [
    "## Result generation"
   ]
  },
  {
   "cell_type": "code",
   "execution_count": 21,
   "metadata": {},
   "outputs": [],
   "source": [
    "import cv2\n",
    "nopnew = \"FallDataset/Office/Office/video (3).avi\"\n",
    "nofirst = \"FallDataset/Coffee_room_01/Coffee_room_01/Videos/video (1).avi\"\n",
    "cap = cv2.VideoCapture(nopnew)\n",
    "temp = []\n",
    "for i in range(int(cap.get(cv2.CAP_PROP_FRAME_COUNT))):\n",
    "    _,frame = cap.read()\n",
    "    temp += [frame if frame.shape == (240,320,3) else cv2.resize(frame,(320,240))]\n",
    "temp = np.array(temp)\n",
    "temp_x = []\n",
    "for i,x in enumerate(temp[:-25]):\n",
    "    temp_x += [temp[i:i+25]]\n",
    "temp_x = np.array(temp_x)"
   ]
  },
  {
   "cell_type": "code",
   "execution_count": 22,
   "metadata": {},
   "outputs": [
    {
     "data": {
      "image/png": "[encoded data removed]",
      "text/plain": [
       "<Figure size 432x288 with 1 Axes>"
      ]
     },
     "metadata": {
      "needs_background": "light"
     },
     "output_type": "display_data"
    }
   ],
   "source": [
    "plt.plot(model.predict(temp_x))\n",
    "plt.ylabel(\"score\")\n",
    "plt.xlabel(\"frames with window =25\")\n",
    "plt.title(\"office (3)\")\n",
    "plt.savefig(\"office (3)2\")"
   ]
  },
  {
   "cell_type": "markdown",
   "metadata": {},
   "source": [
    "# Second model"
   ]
  },
  {
   "cell_type": "code",
   "execution_count": 32,
   "metadata": {},
   "outputs": [],
   "source": [
    "\n",
    "inx = keras.Input(shape=(24, 240, 320, 6))\n",
    "x = keras.layers.TimeDistributed(keras.layers.Conv2D(20, (3,3), padding='same', strides=(1,1), activation='relu'))(inx)\n",
    "x = keras.layers.TimeDistributed(keras.layers.MaxPooling2D())(x)\n",
    "x = keras.layers.TimeDistributed(keras.layers.Conv2D(40, (3,3), padding='same', strides=(1,1), activation='relu'))(x)\n",
    "x = keras.layers.TimeDistributed(keras.layers.MaxPooling2D())(x)\n",
    "x = keras.layers.TimeDistributed(keras.layers.Conv2D(80, (3,3), padding='same', strides=(1,1), activation='relu'))(x)\n",
    "x = keras.layers.TimeDistributed(keras.layers.MaxPooling2D())(x)\n",
    "x = keras.layers.TimeDistributed(keras.layers.Conv2D(160, (3,3), padding='same', strides=(1,1), activation='relu'))(x)\n",
    "# x = keras.layers.TimeDistributed(keras.layers.Flatten())(x)\n",
    "x = keras.layers.TimeDistributed(keras.layers.GlobalAveragePooling2D())(x)\n",
    "\n",
    "x = keras.layers.GRU(128, return_sequences=True)(x)\n",
    "x = keras.layers.GRU(128, return_sequences=True)(x)\n",
    "x = keras.layers.Flatten()(x)\n",
    "x = keras.layers.Dense(64, activation = \"relu\")(x)\n",
    "x = keras.layers.Dense(16, activation = \"relu\")(x)\n",
    "outputs = keras.layers.Dense(1, activation=\"sigmoid\")(x)"
   ]
  },
  {
   "cell_type": "code",
   "execution_count": 33,
   "metadata": {},
   "outputs": [],
   "source": [
    "model2 = keras.Model(inputs=inx, outputs=outputs)"
   ]
  },
  {
   "cell_type": "code",
   "execution_count": 34,
   "metadata": {},
   "outputs": [
    {
     "name": "stdout",
     "output_type": "stream",
     "text": [
      "Model: \"model_4\"\n",
      "_________________________________________________________________\n",
      "Layer (type)                 Output Shape              Param #   \n",
      "=================================================================\n",
      "input_5 (InputLayer)         [(None, 24, 240, 320, 6)] 0         \n",
      "_________________________________________________________________\n",
      "time_distributed_32 (TimeDis (None, 24, 240, 320, 20)  1100      \n",
      "_________________________________________________________________\n",
      "time_distributed_33 (TimeDis (None, 24, 120, 160, 20)  0         \n",
      "_________________________________________________________________\n",
      "time_distributed_34 (TimeDis (None, 24, 120, 160, 40)  7240      \n",
      "_________________________________________________________________\n",
      "time_distributed_35 (TimeDis (None, 24, 60, 80, 40)    0         \n",
      "_________________________________________________________________\n",
      "time_distributed_36 (TimeDis (None, 24, 60, 80, 80)    28880     \n",
      "_________________________________________________________________\n",
      "time_distributed_37 (TimeDis (None, 24, 30, 40, 80)    0         \n",
      "_________________________________________________________________\n",
      "time_distributed_38 (TimeDis (None, 24, 30, 40, 160)   115360    \n",
      "_________________________________________________________________\n",
      "time_distributed_39 (TimeDis (None, 24, 160)           0         \n",
      "_________________________________________________________________\n",
      "gru_8 (GRU)                  (None, 24, 128)           111360    \n",
      "_________________________________________________________________\n",
      "gru_9 (GRU)                  (None, 24, 128)           99072     \n",
      "_________________________________________________________________\n",
      "flatten_4 (Flatten)          (None, 3072)              0         \n",
      "_________________________________________________________________\n",
      "dense_12 (Dense)             (None, 64)                196672    \n",
      "_________________________________________________________________\n",
      "dense_13 (Dense)             (None, 16)                1040      \n",
      "_________________________________________________________________\n",
      "dense_14 (Dense)             (None, 1)                 17        \n",
      "=================================================================\n",
      "Total params: 560,741\n",
      "Trainable params: 560,741\n",
      "Non-trainable params: 0\n",
      "_________________________________________________________________\n"
     ]
    }
   ],
   "source": [
    "model2.summary()"
   ]
  },
  {
   "cell_type": "code",
   "execution_count": 35,
   "metadata": {},
   "outputs": [],
   "source": [
    "def weighted_binary_crossentropy(weights):\n",
    "    def w_binary_crossentropy(y_true, y_pred):\n",
    "        return tf.keras.backend.mean(tf.nn.weighted_cross_entropy_with_logits(\n",
    "            y_true,\n",
    "            y_pred,\n",
    "            weights,\n",
    "            name=None\n",
    "        ), axis=-1)\n",
    "    return w_binary_crossentropy\n",
    "wc = tf.losses.CategoricalCrossentropy()\n",
    "ssgd = tf.keras.optimizers.SGD(learning_rate=0.1)\n",
    "model2.compile(loss = weighted_binary_crossentropy(20), optimizer = \"sgd\", metrics = [\"MSE\"])"
   ]
  },
  {
   "cell_type": "code",
   "execution_count": 36,
   "metadata": {},
   "outputs": [],
   "source": [
    "def train_gen():\n",
    "    kk=-1\n",
    "    while True:\n",
    "        kk += 1\n",
    "        yield np.load(\"flowx_\"+str(kk%1300)+\".npy\"), np.load(\"flowy_\"+str(kk%1300)+\".npy\").astype(float)\n",
    "train_gengen = tf.data.Dataset.from_generator(train_gen, args=[], output_types=(tf.float32, tf.float32,), )\n"
   ]
  },
  {
   "cell_type": "code",
   "execution_count": 37,
   "metadata": {},
   "outputs": [
    {
     "name": "stdout",
     "output_type": "stream",
     "text": [
      "(10, 24, 240, 320, 6) tf.Tensor([0. 0. 0. 0. 0. 0. 1. 0. 0. 0.], shape=(10,), dtype=float32)\n"
     ]
    }
   ],
   "source": [
    "for a,b in train_gengen.repeat().take(1):\n",
    "    print(a.shape, b)\n",
    "    break"
   ]
  },
  {
   "cell_type": "code",
   "execution_count": 38,
   "metadata": {},
   "outputs": [
    {
     "name": "stdout",
     "output_type": "stream",
     "text": [
      "Epoch 1/10\n",
      "1000/1000 [==============================] - 717s 714ms/step - loss: 1.4840 - MSE: 0.2367\n",
      "Epoch 2/10\n",
      "1000/1000 [==============================] - 707s 707ms/step - loss: 1.1178 - MSE: 0.0772\n",
      "Epoch 3/10\n",
      "1000/1000 [==============================] - 705s 705ms/step - loss: 1.1281 - MSE: 0.0788\n",
      "Epoch 4/10\n",
      "1000/1000 [==============================] - 714s 714ms/step - loss: 1.1153 - MSE: 0.0672\n",
      "Epoch 5/10\n",
      "1000/1000 [==============================] - 713s 713ms/step - loss: 1.1548 - MSE: 0.0846\n",
      "Epoch 6/10\n",
      "1000/1000 [==============================] - 715s 715ms/step - loss: 1.1005 - MSE: 0.0746\n",
      "Epoch 7/10\n",
      "1000/1000 [==============================] - 717s 717ms/step - loss: 1.1500 - MSE: 0.0733\n",
      "Epoch 8/10\n",
      "1000/1000 [==============================] - 715s 715ms/step - loss: 1.0933 - MSE: 0.0638\n",
      "Epoch 9/10\n",
      "1000/1000 [==============================] - 714s 714ms/step - loss: 1.1347 - MSE: 0.0756\n",
      "Epoch 10/10\n",
      "1000/1000 [==============================] - 711s 711ms/step - loss: 1.1273 - MSE: 0.0623\n"
     ]
    },
    {
     "data": {
      "text/plain": [
       "<tensorflow.python.keras.callbacks.History at 0x187024177f0>"
      ]
     },
     "execution_count": 38,
     "metadata": {},
     "output_type": "execute_result"
    }
   ],
   "source": [
    "model2.fit_generator(generator = train_gengen, steps_per_epoch= 1000, epochs = 10)"
   ]
  },
  {
   "cell_type": "markdown",
   "metadata": {},
   "source": [
    "## save model"
   ]
  },
  {
   "cell_type": "code",
   "execution_count": 39,
   "metadata": {},
   "outputs": [],
   "source": [
    "model2.save(\"flowmodel.h5\")"
   ]
  },
  {
   "cell_type": "markdown",
   "metadata": {},
   "source": [
    "## load model"
   ]
  },
  {
   "cell_type": "code",
   "execution_count": null,
   "metadata": {},
   "outputs": [],
   "source": [
    "model = tf.keras.models.load_model(\"flowmodel.h5\", custom_objects={'w_binary_crossentropy': weighted_binary_crossentropy(20)})\n",
    "model.summary()"
   ]
  },
  {
   "cell_type": "markdown",
   "metadata": {},
   "source": [
    "## Result generation"
   ]
  },
  {
   "cell_type": "code",
   "execution_count": 64,
   "metadata": {},
   "outputs": [],
   "source": [
    "import cv2\n",
    "nopnew = \"FallDataset/Office/Office/video (5).avi\"\n",
    "nofirst = \"FallDataset/Coffee_room_01/Coffee_room_01/Videos/video (1).avi\"\n",
    "cap = cv2.VideoCapture(nopnew)\n",
    "temp = []\n",
    "for i in range(int(cap.get(cv2.CAP_PROP_FRAME_COUNT))):\n",
    "    _,frame = cap.read()\n",
    "    temp += [frame if frame.shape == (240,320,3) else cv2.resize(frame,(320,240))]\n",
    "temp_t = []\n",
    "for i in range(len(temp)-1):\n",
    "    temp_tt = cv2.calcOpticalFlowFarneback(temp[i][:,:,0], temp[i+1][:,:,0], None, 0.5, 3, 15, 3, 5, 1.2, 0)\n",
    "    temp_tt = np.concatenate((temp_tt, cv2.calcOpticalFlowFarneback(temp[i][:,:,1], temp[i+1][:,:,1], None, 0.5, 3, 15, 3, 5, 1.2, 0)),axis=-1)\n",
    "    temp_tt = np.concatenate((temp_tt, cv2.calcOpticalFlowFarneback(temp[i][:,:,2], temp[i+1][:,:,2], None, 0.5, 3, 15, 3, 5, 1.2, 0)),axis=-1)\n",
    "    temp_t += [temp_tt]\n",
    "temp = temp_t\n",
    "temp_x = []\n",
    "for i,x in enumerate(temp[:-24]):\n",
    "    temp_x += [temp[i:i+24]]\n",
    "temp_x = np.array(temp_x)"
   ]
  },
  {
   "cell_type": "code",
   "execution_count": 65,
   "metadata": {},
   "outputs": [
    {
     "data": {
      "text/plain": [
       "(213, 24, 240, 320, 6)"
      ]
     },
     "execution_count": 65,
     "metadata": {},
     "output_type": "execute_result"
    }
   ],
   "source": [
    "temp_x.shape"
   ]
  },
  {
   "cell_type": "code",
   "execution_count": 66,
   "metadata": {},
   "outputs": [],
   "source": [
    "flow_plot = []\n",
    "for i in range(len(temp_x)-1):\n",
    "    flow_plot+=[model2.predict(temp_x[i:i+1])[0][0]]"
   ]
  },
  {
   "cell_type": "code",
   "execution_count": 67,
   "metadata": {},
   "outputs": [
    {
     "data": {
      "image/png": "[encoded data removed]",
      "text/plain": [
       "<Figure size 432x288 with 1 Axes>"
      ]
     },
     "metadata": {
      "needs_background": "light"
     },
     "output_type": "display_data"
    }
   ],
   "source": [
    "plt.plot(flow_plot)\n",
    "plt.ylabel(\"score\")\n",
    "plt.xlabel(\"frames with window =24\")\n",
    "plt.title(\"office (5)\")\n",
    "plt.savefig(\"office (5) with flow\")"
   ]
  },
  {
   "cell_type": "code",
   "execution_count": null,
   "metadata": {},
   "outputs": [],
   "source": []
  }
 ],
 "metadata": {
  "kernelspec": {
   "display_name": "Python 3",
   "language": "python",
   "name": "python3"
  },
  "language_info": {
   "codemirror_mode": {
    "name": "ipython",
    "version": 3
   },
   "file_extension": ".py",
   "mimetype": "text/x-python",
   "name": "python",
   "nbconvert_exporter": "python",
   "pygments_lexer": "ipython3",
   "version": "3.8.5"
  }
 },
 "nbformat": 4,
 "nbformat_minor": 4
}
